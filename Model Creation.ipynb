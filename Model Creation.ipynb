{
 "cells": [
  {
   "cell_type": "code",
   "execution_count": 1,
   "id": "32f4098c",
   "metadata": {},
   "outputs": [
    {
     "name": "stdout",
     "output_type": "stream",
     "text": [
      "Model accuracy is 95.56%\n"
     ]
    }
   ],
   "source": [
    "from sklearn.datasets import load_iris # used to get data\n",
    "from sklearn.ensemble import RandomForestClassifier # classifier model used\n",
    "from sklearn.model_selection import train_test_split # used to test on data not used to train model\n",
    "from sklearn.metrics import accuracy_score # used to evaluate model\n",
    "import pickle # used to save the model\n",
    "\n",
    "data = load_iris()\n",
    "\n",
    "# create instance of random forest class\n",
    "model = RandomForestClassifier(random_state=1)\n",
    "\n",
    "# train-test split the data\n",
    "X, y = data.data, data.target\n",
    "X_train, X_test, y_train, y_test = train_test_split(X, y, test_size=0.30, random_state=1)\n",
    "\n",
    "# train the model on the training data\n",
    "model = model.fit(X_train, y_train)\n",
    "\n",
    "# test the model on the testing data\n",
    "predictions = model.predict(X_test)\n",
    "accuracy = accuracy_score(y_test, predictions)\n",
    "print(f'Model accuracy is {round(accuracy*100, 2)}%')\n",
    "\n",
    "# pickle the model\n",
    "filename = 'model.pickle'\n",
    "pickle.dump(model, open(filename, 'wb'))"
   ]
  }
 ],
 "metadata": {
  "kernelspec": {
   "display_name": "Python 3",
   "language": "python",
   "name": "python3"
  },
  "language_info": {
   "codemirror_mode": {
    "name": "ipython",
    "version": 3
   },
   "file_extension": ".py",
   "mimetype": "text/x-python",
   "name": "python",
   "nbconvert_exporter": "python",
   "pygments_lexer": "ipython3",
   "version": "3.9.4"
  }
 },
 "nbformat": 4,
 "nbformat_minor": 5
}
